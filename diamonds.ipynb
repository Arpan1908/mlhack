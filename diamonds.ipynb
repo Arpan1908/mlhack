{
 "cells": [
  {
   "cell_type": "code",
   "execution_count": 1,
   "id": "00d86d5f",
   "metadata": {
    "_cell_guid": "b1076dfc-b9ad-4769-8c92-a6c4dae69d19",
    "_uuid": "8f2839f25d086af736a60e9eeb907d3b93b6e0e5",
    "execution": {
     "iopub.execute_input": "2022-04-09T17:51:10.359980Z",
     "iopub.status.busy": "2022-04-09T17:51:10.359493Z",
     "iopub.status.idle": "2022-04-09T17:51:11.698989Z",
     "shell.execute_reply": "2022-04-09T17:51:11.698461Z",
     "shell.execute_reply.started": "2022-04-09T17:33:04.716275Z"
    },
    "papermill": {
     "duration": 1.354357,
     "end_time": "2022-04-09T17:51:11.699112",
     "exception": false,
     "start_time": "2022-04-09T17:51:10.344755",
     "status": "completed"
    },
    "tags": []
   },
   "outputs": [],
   "source": [
    "import numpy as np\n",
    "import pandas as pd\n",
    "import matplotlib.pyplot as plt\n",
    "from sklearn.linear_model import LinearRegression\n",
    "from sklearn.linear_model import Ridge\n",
    "from sklearn.preprocessing import LabelEncoder\n",
    "from sklearn.preprocessing import MinMaxScaler\n",
    "from sklearn.linear_model import Lasso\n",
    "from sklearn.model_selection import train_test_split\n"
   ]
  },
  {
   "cell_type": "code",
   "execution_count": 2,
   "id": "86808f54",
   "metadata": {
    "execution": {
     "iopub.execute_input": "2022-04-09T17:51:11.717398Z",
     "iopub.status.busy": "2022-04-09T17:51:11.716735Z",
     "iopub.status.idle": "2022-04-09T17:51:11.792522Z",
     "shell.execute_reply": "2022-04-09T17:51:11.793571Z",
     "shell.execute_reply.started": "2022-04-09T17:33:04.725528Z"
    },
    "papermill": {
     "duration": 0.088113,
     "end_time": "2022-04-09T17:51:11.793743",
     "exception": false,
     "start_time": "2022-04-09T17:51:11.705630",
     "status": "completed"
    },
    "tags": []
   },
   "outputs": [],
   "source": [
    "data = pd.read_csv('../input/diamond/Diamond_Pricing_Data.xlsx - 05_Diamonds.csv')"
   ]
  },
  {
   "cell_type": "code",
   "execution_count": 3,
   "id": "019f24a5",
   "metadata": {
    "execution": {
     "iopub.execute_input": "2022-04-09T17:51:11.827192Z",
     "iopub.status.busy": "2022-04-09T17:51:11.826544Z",
     "iopub.status.idle": "2022-04-09T17:51:11.857430Z",
     "shell.execute_reply": "2022-04-09T17:51:11.857783Z",
     "shell.execute_reply.started": "2022-04-09T17:33:04.804107Z"
    },
    "papermill": {
     "duration": 0.05528,
     "end_time": "2022-04-09T17:51:11.857917",
     "exception": false,
     "start_time": "2022-04-09T17:51:11.802637",
     "status": "completed"
    },
    "tags": []
   },
   "outputs": [
    {
     "name": "stdout",
     "output_type": "stream",
     "text": [
      "Colors: 7\n",
      "Cuts: 5\n",
      "Clarities: 8\n"
     ]
    }
   ],
   "source": [
    "data.drop(data.columns[0], axis=1, inplace=True)\n",
    "X = data.drop('price', axis=1)\n",
    "y = data['price']\n",
    "print(f\"Colors: {len(X['color'].unique())}\")\n",
    "print(f\"Cuts: {len(X['cut'].unique())}\")\n",
    "print(f\"Clarities: {len(X['clarity'].unique())}\")"
   ]
  },
  {
   "cell_type": "code",
   "execution_count": 4,
   "id": "3ec903be",
   "metadata": {
    "execution": {
     "iopub.execute_input": "2022-04-09T17:51:11.900565Z",
     "iopub.status.busy": "2022-04-09T17:51:11.890387Z",
     "iopub.status.idle": "2022-04-09T17:51:11.975177Z",
     "shell.execute_reply": "2022-04-09T17:51:11.975629Z",
     "shell.execute_reply.started": "2022-04-09T17:37:02.765150Z"
    },
    "papermill": {
     "duration": 0.111439,
     "end_time": "2022-04-09T17:51:11.975771",
     "exception": false,
     "start_time": "2022-04-09T17:51:11.864332",
     "status": "completed"
    },
    "tags": []
   },
   "outputs": [
    {
     "name": "stdout",
     "output_type": "stream",
     "text": [
      "{0: 'Fair', 1: 'Good', 2: 'Ideal', 3: 'Premium', 4: 'Very Good'}\n",
      "{0: 'D', 1: 'E', 2: 'F', 3: 'G', 4: 'H', 5: 'I', 6: 'J'}\n",
      "{0: 'I1', 1: 'IF', 2: 'SI1', 3: 'SI2', 4: 'VS1', 5: 'VS2', 6: 'VVS1', 7: 'VVS2'}\n"
     ]
    },
    {
     "data": {
      "text/html": [
       "<div>\n",
       "<style scoped>\n",
       "    .dataframe tbody tr th:only-of-type {\n",
       "        vertical-align: middle;\n",
       "    }\n",
       "\n",
       "    .dataframe tbody tr th {\n",
       "        vertical-align: top;\n",
       "    }\n",
       "\n",
       "    .dataframe thead th {\n",
       "        text-align: right;\n",
       "    }\n",
       "</style>\n",
       "<table border=\"1\" class=\"dataframe\">\n",
       "  <thead>\n",
       "    <tr style=\"text-align: right;\">\n",
       "      <th></th>\n",
       "      <th>carat</th>\n",
       "      <th>cut</th>\n",
       "      <th>color</th>\n",
       "      <th>clarity</th>\n",
       "    </tr>\n",
       "  </thead>\n",
       "  <tbody>\n",
       "    <tr>\n",
       "      <th>0</th>\n",
       "      <td>0.23</td>\n",
       "      <td>2</td>\n",
       "      <td>1</td>\n",
       "      <td>3</td>\n",
       "    </tr>\n",
       "    <tr>\n",
       "      <th>1</th>\n",
       "      <td>0.21</td>\n",
       "      <td>3</td>\n",
       "      <td>1</td>\n",
       "      <td>2</td>\n",
       "    </tr>\n",
       "    <tr>\n",
       "      <th>2</th>\n",
       "      <td>0.23</td>\n",
       "      <td>1</td>\n",
       "      <td>1</td>\n",
       "      <td>4</td>\n",
       "    </tr>\n",
       "    <tr>\n",
       "      <th>3</th>\n",
       "      <td>0.29</td>\n",
       "      <td>3</td>\n",
       "      <td>5</td>\n",
       "      <td>5</td>\n",
       "    </tr>\n",
       "    <tr>\n",
       "      <th>4</th>\n",
       "      <td>0.31</td>\n",
       "      <td>1</td>\n",
       "      <td>6</td>\n",
       "      <td>3</td>\n",
       "    </tr>\n",
       "    <tr>\n",
       "      <th>...</th>\n",
       "      <td>...</td>\n",
       "      <td>...</td>\n",
       "      <td>...</td>\n",
       "      <td>...</td>\n",
       "    </tr>\n",
       "    <tr>\n",
       "      <th>53935</th>\n",
       "      <td>0.72</td>\n",
       "      <td>2</td>\n",
       "      <td>0</td>\n",
       "      <td>2</td>\n",
       "    </tr>\n",
       "    <tr>\n",
       "      <th>53936</th>\n",
       "      <td>0.72</td>\n",
       "      <td>1</td>\n",
       "      <td>0</td>\n",
       "      <td>2</td>\n",
       "    </tr>\n",
       "    <tr>\n",
       "      <th>53937</th>\n",
       "      <td>0.70</td>\n",
       "      <td>4</td>\n",
       "      <td>0</td>\n",
       "      <td>2</td>\n",
       "    </tr>\n",
       "    <tr>\n",
       "      <th>53938</th>\n",
       "      <td>0.86</td>\n",
       "      <td>3</td>\n",
       "      <td>4</td>\n",
       "      <td>3</td>\n",
       "    </tr>\n",
       "    <tr>\n",
       "      <th>53939</th>\n",
       "      <td>0.75</td>\n",
       "      <td>2</td>\n",
       "      <td>0</td>\n",
       "      <td>3</td>\n",
       "    </tr>\n",
       "  </tbody>\n",
       "</table>\n",
       "<p>53940 rows × 4 columns</p>\n",
       "</div>"
      ],
      "text/plain": [
       "       carat  cut  color  clarity\n",
       "0       0.23    2      1        3\n",
       "1       0.21    3      1        2\n",
       "2       0.23    1      1        4\n",
       "3       0.29    3      5        5\n",
       "4       0.31    1      6        3\n",
       "...      ...  ...    ...      ...\n",
       "53935   0.72    2      0        2\n",
       "53936   0.72    1      0        2\n",
       "53937   0.70    4      0        2\n",
       "53938   0.86    3      4        3\n",
       "53939   0.75    2      0        3\n",
       "\n",
       "[53940 rows x 4 columns]"
      ]
     },
     "execution_count": 4,
     "metadata": {},
     "output_type": "execute_result"
    }
   ],
   "source": [
    "encoder = LabelEncoder()\n",
    "X['color'] = encoder.fit_transform(X['color'])\n",
    "color_mappings = {index: label for index, label in enumerate(encoder.classes_)}\n",
    "X['cut'] = encoder.fit_transform(X['cut'])\n",
    "cut_mappings = {index: label for index, label in enumerate(encoder.classes_)}\n",
    "X['clarity'] = encoder.fit_transform(X['clarity'])\n",
    "clarity_mappings = {index: label for index, label in enumerate(encoder.classes_)}\n",
    "\n",
    "print(cut_mappings)\n",
    "print(color_mappings)\n",
    "print(clarity_mappings)\n",
    "\n",
    "pd.DataFrame(X)"
   ]
  },
  {
   "cell_type": "code",
   "execution_count": 5,
   "id": "3332b2c9",
   "metadata": {
    "execution": {
     "iopub.execute_input": "2022-04-09T17:51:11.998934Z",
     "iopub.status.busy": "2022-04-09T17:51:11.998418Z",
     "iopub.status.idle": "2022-04-09T17:51:12.059399Z",
     "shell.execute_reply": "2022-04-09T17:51:12.058824Z",
     "shell.execute_reply.started": "2022-04-09T17:40:56.824073Z"
    },
    "papermill": {
     "duration": 0.076477,
     "end_time": "2022-04-09T17:51:12.059531",
     "exception": false,
     "start_time": "2022-04-09T17:51:11.983054",
     "status": "completed"
    },
    "tags": []
   },
   "outputs": [
    {
     "data": {
      "text/plain": [
       "Ridge(alpha=1)"
      ]
     },
     "execution_count": 5,
     "metadata": {},
     "output_type": "execute_result"
    }
   ],
   "source": [
    "scaler = MinMaxScaler()\n",
    "X = scaler.fit_transform(X)\n",
    "X_train, X_test, y_train, y_test = train_test_split(X, y, train_size=0.8)\n",
    "stdmodel = LinearRegression()\n",
    "model_1 = Lasso(alpha=1)\n",
    "model_2 = Ridge(alpha=1)\n",
    "stdmodel.fit(X_train, y_train)\n",
    "model_1.fit(X_train, y_train)\n",
    "model_2.fit(X_train, y_train)\n"
   ]
  },
  {
   "cell_type": "code",
   "execution_count": 6,
   "id": "f83cde7a",
   "metadata": {
    "execution": {
     "iopub.execute_input": "2022-04-09T17:51:12.127906Z",
     "iopub.status.busy": "2022-04-09T17:51:12.127325Z",
     "iopub.status.idle": "2022-04-09T17:51:12.132888Z",
     "shell.execute_reply": "2022-04-09T17:51:12.133388Z",
     "shell.execute_reply.started": "2022-04-09T17:43:28.170604Z"
    },
    "papermill": {
     "duration": 0.042493,
     "end_time": "2022-04-09T17:51:12.133552",
     "exception": false,
     "start_time": "2022-04-09T17:51:12.091059",
     "status": "completed"
    },
    "tags": []
   },
   "outputs": [
    {
     "name": "stdout",
     "output_type": "stream",
     "text": [
      "Lasso (L1) regularization: 0.8765267372101733\n",
      "Ridge (L2) regularization: 0.8765133647166707\n"
     ]
    }
   ],
   "source": [
    "\n",
    "print(f\"Lasso (L1) regularization: {model_1.score(X_test, y_test)}\")\n",
    "print(f\"Ridge (L2) regularization: {model_2.score(X_test, y_test)}\")"
   ]
  }
 ],
 "metadata": {
  "kernelspec": {
   "display_name": "Python 3",
   "language": "python",
   "name": "python3"
  },
  "language_info": {
   "codemirror_mode": {
    "name": "ipython",
    "version": 3
   },
   "file_extension": ".py",
   "mimetype": "text/x-python",
   "name": "python",
   "nbconvert_exporter": "python",
   "pygments_lexer": "ipython3",
   "version": "3.7.12"
  },
  "papermill": {
   "default_parameters": {},
   "duration": 14.061244,
   "end_time": "2022-04-09T17:51:12.972243",
   "environment_variables": {},
   "exception": null,
   "input_path": "__notebook__.ipynb",
   "output_path": "__notebook__.ipynb",
   "parameters": {},
   "start_time": "2022-04-09T17:50:58.910999",
   "version": "2.3.3"
  }
 },
 "nbformat": 4,
 "nbformat_minor": 5
}
